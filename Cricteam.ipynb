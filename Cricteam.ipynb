{
 "cells": [
  {
   "cell_type": "code",
   "execution_count": 1,
   "id": "e3fe3c35",
   "metadata": {},
   "outputs": [],
   "source": [
    "from bs4 import BeautifulSoup\n",
    "from csv import writer\n",
    "import requests"
   ]
  },
  {
   "cell_type": "code",
   "execution_count": 2,
   "id": "02396704",
   "metadata": {},
   "outputs": [
    {
     "name": "stdout",
     "output_type": "stream",
     "text": [
      "<Response [200]>\n"
     ]
    }
   ],
   "source": [
    "url = \"https://stats.espncricinfo.com/ci/engine/stats/index.html?class=11;filter=advanced;home_or_away=1;home_or_away=2;home_or_away=3;orderby=runs;size=100;spanmin1=31+Dec+1979;spanval1=span;template=results;type=batting\"\n",
    "page = requests.get(url)\n",
    "print(page)"
   ]
  },
  {
   "cell_type": "code",
   "execution_count": 9,
   "id": "74c8b503",
   "metadata": {},
   "outputs": [],
   "source": [
    "soup = BeautifulSoup(page.content,'html.parser')\n",
    "table_bat = soup.find_all('table',class_=\"engineTable\")\n",
    "with open('batting3.csv','w',encoding='utf8',newline='') as x:\n",
    "    thewriter=writer(x)\n",
    "    header=['Name','Span','Innings','Average']\n",
    "    thewriter.writerow(header)\n",
    "    for i in table_bat:\n",
    "\n",
    "        rows=i.find_all('tr',class_='data1')\n",
    "        for j in rows:\n",
    "            name=j.find('td',class_='left').text\n",
    "            span=j.find_all('td')[1].text\n",
    "            inn=j.find_all('td')[3].text\n",
    "            batavg=j.find_all('td')[7].text\n",
    "            l =[name,span,inn,batavg]\n",
    "            thewriter.writerow(l)\n",
    "\n",
    "    \n",
    "    "
   ]
  },
  {
   "cell_type": "code",
   "execution_count": null,
   "id": "32175f55",
   "metadata": {},
   "outputs": [],
   "source": []
  },
  {
   "cell_type": "code",
   "execution_count": null,
   "id": "12a31599",
   "metadata": {},
   "outputs": [],
   "source": []
  },
  {
   "cell_type": "code",
   "execution_count": 2,
   "id": "22b0bd3b",
   "metadata": {},
   "outputs": [
    {
     "name": "stdout",
     "output_type": "stream",
     "text": [
      "<Response [200]>\n"
     ]
    }
   ],
   "source": [
    "url3 =\"https://stats.espncricinfo.com/ci/engine/stats/index.html?bowling_pacespin=2;class=11;filter=advanced;home_or_away=1;home_or_away=2;home_or_away=3;orderby=wickets;size=100;spanmin1=31+Dec+1979;spanval1=span;template=results;type=bowling\"\n",
    "page =requests.get(url3)\n",
    "print(page)"
   ]
  },
  {
   "cell_type": "code",
   "execution_count": 4,
   "id": "51536b23",
   "metadata": {},
   "outputs": [],
   "source": [
    "    with open('spin3.csv','w',encoding='utf8',newline='') as z:\n",
    "        thewriter=writer(z)\n",
    "        header=['Name','Span','Innings','SpinnerAverage']\n",
    "        thewriter.writerow(header)\n",
    "\n",
    "        soup3 = BeautifulSoup(page.content,'html.parser')\n",
    "        table_bowl2=soup3.find_all('table',class_=\"engineTable\")\n",
    "        for i in table_bowl2:\n",
    "            rows=i.find_all('tr',class_=\"data1\")\n",
    "            for j in rows:\n",
    "                name=j.find('td',class_='left').text\n",
    "                span=j.find_all('td')[1].text\n",
    "                inn=j.find_all('td')[3].text\n",
    "                bowlavg=j.find_all('td')[10].text\n",
    "                l=[name,span,inn,bowlavg]\n",
    "                thewriter.writerow(l)"
   ]
  },
  {
   "cell_type": "code",
   "execution_count": 5,
   "id": "da6cbd1e",
   "metadata": {},
   "outputs": [
    {
     "name": "stdout",
     "output_type": "stream",
     "text": [
      "<Response [200]>\n"
     ]
    }
   ],
   "source": [
    "url4 =\"https://stats.espncricinfo.com/ci/engine/stats/index.html?batting_hand=1;batting_positionmin1=5;batting_positionval1=batting_position;class=11;filter=advanced;home_or_away=1;home_or_away=2;home_or_away=3;orderby=allround_average;size=150;spanmin1=31+Dec+1979;spanval1=span;template=results;type=allround\"\n",
    "page1 =requests.get(url4)\n",
    "print(page1)"
   ]
  },
  {
   "cell_type": "code",
   "execution_count": 9,
   "id": "6b820e37",
   "metadata": {},
   "outputs": [],
   "source": [
    " with open('allrounder3.csv','w',encoding='utf8',newline='') as q:\n",
    "        thewriter=writer(q)\n",
    "        header=['Name','Span','Innings','AverageDiff']\n",
    "        thewriter.writerow(header)\n",
    "\n",
    "        soup4 = BeautifulSoup(page1.content,'html.parser')\n",
    "        table_ar=soup4.find_all('table',class_=\"engineTable\")\n",
    "        for i in table_ar:\n",
    "            rows=i.find_all('tr',class_=\"data1\")\n",
    "            for j in rows:\n",
    "                name=j.find('td',class_='left').text\n",
    "                span=j.find_all('td')[1].text\n",
    "                inn=j.find_all('td')[2].text\n",
    "                avgdif=j.find_all('td')[13].text\n",
    "                l=[name,span,inn,avgdif]\n",
    "                thewriter.writerow(l)"
   ]
  },
  {
   "cell_type": "code",
   "execution_count": null,
   "id": "de4422e3",
   "metadata": {},
   "outputs": [],
   "source": []
  },
  {
   "cell_type": "code",
   "execution_count": 3,
   "id": "3569e78b",
   "metadata": {},
   "outputs": [
    {
     "name": "stdout",
     "output_type": "stream",
     "text": [
      "<Response [200]>\n"
     ]
    }
   ],
   "source": [
    "url2 = \"https://stats.espncricinfo.com/ci/engine/stats/index.html?bowling_pacespin=1;class=11;filter=advanced;home_or_away=1;home_or_away=2;home_or_away=3;orderby=wickets;size=100;spanmin1=31+Dec+1979;spanval1=span;template=results;type=bowling\"\n",
    "response = requests.get(url2)\n",
    "print(response)"
   ]
  },
  {
   "cell_type": "code",
   "execution_count": 6,
   "id": "9c0f0f1c",
   "metadata": {},
   "outputs": [],
   "source": [
    "with open('bowling.csv','w',encoding='utf8',newline='') as y:\n",
    "    thewriter=writer(y)\n",
    "    header=['Name','Span','Innings','BowlingAverage']\n",
    "    thewriter.writerow(header)\n",
    "\n",
    "    soup2 = BeautifulSoup(response.content,'html.parser')\n",
    "    table_bowl=soup2.find_all('table',class_=\"engineTable\")\n",
    "    for i in table_bowl:\n",
    "        rows2=i.find_all('tr',class_=\"data1\")\n",
    "        for j in rows2:\n",
    "            name=j.find('td',class_='left').text\n",
    "            span=j.find_all('td')[1].text\n",
    "            inn=j.find_all('td')[3].text\n",
    "            bowlavg=j.find_all('td')[10].text\n",
    "            l=[name,span,inn,bowlavg]\n",
    "            thewriter.writerow(l)"
   ]
  },
  {
   "cell_type": "code",
   "execution_count": 7,
   "id": "576aa04c",
   "metadata": {},
   "outputs": [
    {
     "name": "stdout",
     "output_type": "stream",
     "text": [
      "<Response [200]>\n"
     ]
    }
   ],
   "source": [
    "url3 =\"https://stats.espncricinfo.com/ci/engine/stats/index.html?bowling_pacespin=2;class=11;filter=advanced;home_or_away=1;home_or_away=2;home_or_away=3;orderby=wickets;size=100;spanmin1=31+Dec+1979;spanval1=span;template=results;type=bowling\"\n",
    "page =requests.get(url3)\n",
    "print(page)"
   ]
  },
  {
   "cell_type": "code",
   "execution_count": 9,
   "id": "d8408d76",
   "metadata": {},
   "outputs": [],
   "source": [
    "    with open('spi.csv','w',encoding='utf8',newline='') as z:\n",
    "        thewriter=writer(z)\n",
    "        header=['Name','Span','Innings','SpinnerAverage']\n",
    "        thewriter.writerow(header)\n",
    "\n",
    "        soup3 = BeautifulSoup(page.content,'html.parser')\n",
    "        table_bowl2=soup2.find_all('table',class_=\"engineTable\")\n",
    "        for i in table_bowl2:\n",
    "            rows=i.find_all('tr',class_=\"data1\")\n",
    "            for j in rows:\n",
    "                name=j.find('td',class_='left').text\n",
    "                span=j.find_all('td')[1].text\n",
    "                inn=j.find_all('td')[3].text\n",
    "                bowlavg=j.find_all('td')[10].text\n",
    "                l=[name,span,inn,bowlavg]\n",
    "                thewriter.writerow(l)"
   ]
  },
  {
   "cell_type": "code",
   "execution_count": null,
   "id": "052099bb",
   "metadata": {},
   "outputs": [],
   "source": []
  }
 ],
 "metadata": {
  "kernelspec": {
   "display_name": "Python 3 (ipykernel)",
   "language": "python",
   "name": "python3"
  },
  "language_info": {
   "codemirror_mode": {
    "name": "ipython",
    "version": 3
   },
   "file_extension": ".py",
   "mimetype": "text/x-python",
   "name": "python",
   "nbconvert_exporter": "python",
   "pygments_lexer": "ipython3",
   "version": "3.9.2"
  }
 },
 "nbformat": 4,
 "nbformat_minor": 5
}
